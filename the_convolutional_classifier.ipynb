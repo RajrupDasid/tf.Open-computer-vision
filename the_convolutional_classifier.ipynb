{
 "cells": [
  {
   "cell_type": "markdown",
   "id": "5c63cd26-36e0-42d9-befd-43e05e7a5bb5",
   "metadata": {},
   "source": [
    "# Welcome to Computer Vision!¶"
   ]
  },
  {
   "cell_type": "markdown",
   "id": "f6c2044d-ba4e-45dd-b633-ca4cc8196125",
   "metadata": {},
   "source": [
    "Have you ever wanted to teach a computer to see? In this course, that's exactly what you'll do!\n",
    "\n",
    "In this course, you'll:\n",
    "\n",
    "   * Use modern deep-learning networks to build an image classifier with Keras\n",
    "   * Design your own custom convnet with reusable blocks\n",
    "   * Learn the fundamental ideas behind visual feature extraction\n",
    "   * Master the art of transfer learning to boost your models\n",
    "   * Utilize data augmentation to extend your dataset\n",
    "\n",
    "If you've taken the Introduction to Deep Learning course, you'll know everything you need to be successful.\n",
    "\n",
    "Now let's get started!"
   ]
  },
  {
   "cell_type": "markdown",
   "id": "c11598e8-d851-4e63-9bc7-c005f1fcb4c7",
   "metadata": {},
   "source": [
    "# Introduction¶"
   ]
  },
  {
   "cell_type": "markdown",
   "id": "57db5524-8477-45b8-873f-a681bb395cd6",
   "metadata": {},
   "source": [
    "This course will introduce you to the fundamental ideas of computer vision. Our goal is to learn how a neural network can \"understand\" a natural image well-enough to solve the same kinds of problems the human visual system can solve.\n",
    "\n",
    "The neural networks that are best at this task are called convolutional neural networks (Sometimes we say convnet or CNN instead.) Convolution is the mathematical operation that gives the layers of a convnet their unique structure. In future lessons, you'll learn why this structure is so effective at solving computer vision problems.\n",
    "\n",
    "We will apply these ideas to the problem of image classification: given a picture, can we train a computer to tell us what it's a picture of? You may have seen [apps](https://identify.plantnet.org/) that can identify a species of plant from a photograph. That's an image classifier! In this course, you'll learn how to build image classifiers just as powerful as those used in professional applications.\n",
    "\n",
    "While our focus will be on image classification, what you'll learn in this course is relevant to every kind of computer vision problem. At the end, you'll be ready to move on to more advanced applications like generative adversarial networks and image segmentation."
   ]
  },
  {
   "cell_type": "markdown",
   "id": "659ccf12-09a6-45ad-9859-5c161d3f9e9d",
   "metadata": {},
   "source": [
    "# The Convolutional Classifier¶"
   ]
  },
  {
   "cell_type": "markdown",
   "id": "6b55c7dc-6e3c-4809-814e-0808e4416a3a",
   "metadata": {},
   "source": [
    "A convnet used for image classification consists of two parts: a convolutional base and a dense head\n",
    "\n",
    "<img src=\"refimages/cnn01.png\">\n",
    "\n",
    "The base is used to extract the features from an image. It is formed primarily of layers performing the convolution operation, but often includes other kinds of layers as well. (You'll learn about these in the next lesson.)\n",
    "\n",
    "The head is used to determine the class of the image. It is formed primarily of dense layers, but might include other layers like dropout.\n",
    "\n",
    "What do we mean by visual feature? A feature could be a line, a color, a texture, a shape, a pattern -- or some complicated combination.\n",
    "\n",
    "The whole process goes something like this:\n",
    "\n",
    "<img src=\"refimages/cnn02.png\">\n",
    "\n",
    "The features actually extracted look a bit different, but it gives the idea."
   ]
  },
  {
   "cell_type": "markdown",
   "id": "aa046c9a-b168-4fa0-9f00-af1a855c6373",
   "metadata": {},
   "source": [
    "## Training the Classifier¶"
   ]
  },
  {
   "cell_type": "markdown",
   "id": "f3dab3d9-7a8a-4b20-9d39-58a82f91301e",
   "metadata": {},
   "source": [
    "The goal of the network during training is to learn two things:\n",
    "\n",
    "   1.  which features to extract from an image (base),\n",
    "   2.  which class goes with what features (head).\n",
    "\n",
    "These days, convnets are rarely trained from scratch. More often, we reuse the base of a pretrained model. To the pretrained base we then attach an untrained head. In other words, we reuse the part of a network that has already learned to do 1. Extract features, and attach to it some fresh layers to learn 2. Classify.\n",
    "\n",
    "<img src=\"refimages/cnn03.png\">\n",
    "\n",
    "Because the head usually consists of only a few dense layers, very accurate classifiers can be created from relatively little data.\n",
    "\n",
    "Reusing a pretrained model is a technique known as transfer learning. It is so effective, that almost every image classifier these days will make use of it.\n"
   ]
  },
  {
   "cell_type": "markdown",
   "id": "8d70cc77-26bc-4bd1-9ce6-e46733fc780f",
   "metadata": {},
   "source": [
    "# Example - Train a Convnet Classifier¶"
   ]
  },
  {
   "cell_type": "markdown",
   "id": "f46d4bd5-d3e1-45a9-81f2-3fca6d15ad3e",
   "metadata": {},
   "source": [
    "Throughout this course, we're going to be creating classifiers that attempt to solve the following problem: is this a picture of a Car or of a Truck? Our dataset is about 10,000 pictures of various automobiles, around half cars and half trucks."
   ]
  },
  {
   "cell_type": "markdown",
   "id": "30a49267-ab2a-45c4-81c3-17f1b73e373d",
   "metadata": {},
   "source": [
    "# Step 1 - Load Data¶"
   ]
  },
  {
   "cell_type": "markdown",
   "id": "e83c3188-8cd5-4be0-a8b6-d8e7b7084860",
   "metadata": {},
   "source": [
    "This next hidden cell will import some libraries and set up our data pipeline. We have a training split called ds_train and a validation split called ds_valid."
   ]
  },
  {
   "cell_type": "code",
   "execution_count": 1,
   "id": "76356a91-d7b4-42c5-a684-b0f09215875e",
   "metadata": {},
   "outputs": [
    {
     "name": "stderr",
     "output_type": "stream",
     "text": [
      "2023-08-06 08:03:06.175155: I tensorflow/tsl/cuda/cudart_stub.cc:28] Could not find cuda drivers on your machine, GPU will not be used.\n",
      "2023-08-06 08:03:06.689478: I tensorflow/tsl/cuda/cudart_stub.cc:28] Could not find cuda drivers on your machine, GPU will not be used.\n",
      "2023-08-06 08:03:06.692568: I tensorflow/core/platform/cpu_feature_guard.cc:182] This TensorFlow binary is optimized to use available CPU instructions in performance-critical operations.\n",
      "To enable the following instructions: AVX2 FMA, in other operations, rebuild TensorFlow with the appropriate compiler flags.\n",
      "2023-08-06 08:03:09.047453: W tensorflow/compiler/tf2tensorrt/utils/py_utils.cc:38] TF-TRT Warning: Could not find TensorRT\n"
     ]
    },
    {
     "name": "stdout",
     "output_type": "stream",
     "text": [
      "Found 5117 files belonging to 2 classes.\n",
      "Found 5051 files belonging to 2 classes.\n"
     ]
    }
   ],
   "source": [
    "# Imports\n",
    "import os, warnings\n",
    "import matplotlib.pyplot as plt\n",
    "from matplotlib import gridspec\n",
    "\n",
    "import numpy as np\n",
    "import tensorflow as tf\n",
    "from tensorflow.keras.preprocessing import image_dataset_from_directory\n",
    "\n",
    "# Reproducability\n",
    "def set_seed(seed=31415):\n",
    "    np.random.seed(seed)\n",
    "    tf.random.set_seed(seed)\n",
    "    os.environ['PYTHONHASHSEED'] = str(seed)\n",
    "    os.environ['TF_DETERMINISTIC_OPS'] = '1'\n",
    "set_seed(31415)\n",
    "\n",
    "# Set Matplotlib defaults\n",
    "plt.rc('figure', autolayout=True)\n",
    "plt.rc('axes', labelweight='bold', labelsize='large',\n",
    "       titleweight='bold', titlesize=18, titlepad=10)\n",
    "plt.rc('image', cmap='magma')\n",
    "warnings.filterwarnings(\"ignore\") # to clean up output cells\n",
    "\n",
    "\n",
    "# Load training and validation sets\n",
    "ds_train_ = image_dataset_from_directory(\n",
    "    './input/car-or-truck/train',\n",
    "    labels='inferred',\n",
    "    label_mode='binary',\n",
    "    image_size=[128, 128],\n",
    "    interpolation='nearest',\n",
    "    batch_size=64,\n",
    "    shuffle=True,\n",
    ")\n",
    "ds_valid_ = image_dataset_from_directory(\n",
    "    './input/car-or-truck/valid',\n",
    "    labels='inferred',\n",
    "    label_mode='binary',\n",
    "    image_size=[128, 128],\n",
    "    interpolation='nearest',\n",
    "    batch_size=64,\n",
    "    shuffle=False,\n",
    ")\n",
    "\n",
    "# Data Pipeline\n",
    "def convert_to_float(image, label):\n",
    "    image = tf.image.convert_image_dtype(image, dtype=tf.float32)\n",
    "    return image, label\n",
    "\n",
    "AUTOTUNE = tf.data.experimental.AUTOTUNE\n",
    "ds_train = (\n",
    "    ds_train_\n",
    "    .map(convert_to_float)\n",
    "    .cache()\n",
    "    .prefetch(buffer_size=AUTOTUNE)\n",
    ")\n",
    "ds_valid = (\n",
    "    ds_valid_\n",
    "    .map(convert_to_float)\n",
    "    .cache()\n",
    "    .prefetch(buffer_size=AUTOTUNE)\n",
    ")"
   ]
  },
  {
   "cell_type": "code",
   "execution_count": 2,
   "id": "75298373-1b14-450b-b98c-61a856ec9c69",
   "metadata": {},
   "outputs": [],
   "source": [
    "import matplotlib.pyplot as plt"
   ]
  },
  {
   "cell_type": "markdown",
   "id": "5c0bd1ba-12dd-4e73-99f4-ae48fd9b14a6",
   "metadata": {},
   "source": [
    "### Step 2 - Define Pretrained Base¶"
   ]
  },
  {
   "cell_type": "markdown",
   "id": "57de2867-c5b2-4cc0-964e-c70ea5b797b3",
   "metadata": {},
   "source": [
    "The most commonly used dataset for pretraining is [ImageNet](http://image-net.org), a large dataset of many kind of natural images. Keras includes a variety models pretrained on ImageNet in its applications [module](https://www.tensorflow.org/api_docs/python/tf/keras/applications). The pretrained model we'll use is called VGG16."
   ]
  },
  {
   "cell_type": "code",
   "execution_count": 3,
   "id": "3b2908de-81f8-4de3-aa6a-e0aea3fa3c47",
   "metadata": {},
   "outputs": [
    {
     "name": "stdout",
     "output_type": "stream",
     "text": [
      "WARNING:tensorflow:SavedModel saved prior to TF 2.5 detected when loading Keras model. Please ensure that you are saving the model with model.save() or tf.keras.models.save_model(), *NOT* tf.saved_model.save(). To confirm, there should be a file named \"keras_metadata.pb\" in the SavedModel directory.\n",
      "WARNING:tensorflow:No training configuration found in save file, so the model was *not* compiled. Compile it manually.\n"
     ]
    },
    {
     "name": "stderr",
     "output_type": "stream",
     "text": [
      "WARNING:tensorflow:No training configuration found in save file, so the model was *not* compiled. Compile it manually.\n"
     ]
    }
   ],
   "source": [
    "pretrained_base = tf.keras.models.load_model(\n",
    "    'input/course_model/cv-course-models/vgg16-pretrained-base',\n",
    ")\n",
    "pretrained_base.trainable = False"
   ]
  },
  {
   "cell_type": "markdown",
   "id": "3a1ab3c3-9506-482f-9354-ddf7b463b3c1",
   "metadata": {},
   "source": [
    "### Step 3 - Attach Head¶"
   ]
  },
  {
   "cell_type": "markdown",
   "id": "a7153aa5-2aa1-4e9d-ace8-b41e75d9bff1",
   "metadata": {},
   "source": [
    "Next, we attach the classifier head. For this example, we'll use a layer of hidden units (the first Dense layer) followed by a layer to transform the outputs to a probability score for class 1, Truck. The Flatten layer transforms the two dimensional outputs of the base into the one dimensional inputs needed by the head."
   ]
  },
  {
   "cell_type": "code",
   "execution_count": 4,
   "id": "33c56c44-9e0e-4b92-a8c7-32da942328eb",
   "metadata": {},
   "outputs": [],
   "source": [
    "from tensorflow import keras\n",
    "from tensorflow.keras import layers\n",
    "\n",
    "model = keras.Sequential([\n",
    "    pretrained_base,\n",
    "    layers.Flatten(),\n",
    "    layers.Dense(6, activation='relu'),\n",
    "    layers.Dense(1, activation='sigmoid'),\n",
    "])\n"
   ]
  },
  {
   "cell_type": "markdown",
   "id": "049f1913-ad46-4420-b054-40c8354b5ca1",
   "metadata": {},
   "source": [
    "### Step 4 - Train¶"
   ]
  },
  {
   "cell_type": "markdown",
   "id": "3a31d1a8-e651-4041-b012-03ba71850ef2",
   "metadata": {},
   "source": [
    "Finally, let's train the model. Since this is a two-class problem, we'll use the binary versions of crossentropy and accuracy. The adam optimizer generally performs well, so we'll choose it as well."
   ]
  },
  {
   "cell_type": "code",
   "execution_count": null,
   "id": "f838e633-2a84-4d87-ac13-589bce1a5699",
   "metadata": {},
   "outputs": [],
   "source": [
    "model.compile(\n",
    "    optimizer='adam',\n",
    "    loss='binary_crossentropy',\n",
    "    metrics=['binary_accuracy'],\n",
    ")\n",
    "\n",
    "history = model.fit(\n",
    "    ds_train,\n",
    "    validation_data=ds_valid,\n",
    "    epochs=30,\n",
    "    verbose=0,\n",
    ")"
   ]
  },
  {
   "cell_type": "markdown",
   "id": "7468a522-67e1-409b-a112-9f9031a1603b",
   "metadata": {},
   "source": [
    "\n",
    "\n",
    "When training a neural network, it's always a good idea to examine the loss and metric plots. The history object contains this information in a dictionary history.history. We can use Pandas to convert this dictionary to a dataframe and plot it with a built-in method.\n"
   ]
  },
  {
   "cell_type": "code",
   "execution_count": 8,
   "id": "cc55fbe0-7890-4e18-87db-286c9a498b9f",
   "metadata": {},
   "outputs": [
    {
     "ename": "NameError",
     "evalue": "name 'history' is not defined",
     "output_type": "error",
     "traceback": [
      "\u001b[0;31m---------------------------------------------------------------------------\u001b[0m",
      "\u001b[0;31mNameError\u001b[0m                                 Traceback (most recent call last)",
      "Cell \u001b[0;32mIn[8], line 3\u001b[0m\n\u001b[1;32m      1\u001b[0m \u001b[38;5;28;01mimport\u001b[39;00m \u001b[38;5;21;01mpandas\u001b[39;00m \u001b[38;5;28;01mas\u001b[39;00m \u001b[38;5;21;01mpd\u001b[39;00m\n\u001b[0;32m----> 3\u001b[0m history_frame \u001b[38;5;241m=\u001b[39m pd\u001b[38;5;241m.\u001b[39mDataFrame(\u001b[43mhistory\u001b[49m\u001b[38;5;241m.\u001b[39mhistory)\n\u001b[1;32m      4\u001b[0m history_frame\u001b[38;5;241m.\u001b[39mloc[:, [\u001b[38;5;124m'\u001b[39m\u001b[38;5;124mloss\u001b[39m\u001b[38;5;124m'\u001b[39m, \u001b[38;5;124m'\u001b[39m\u001b[38;5;124mval_loss\u001b[39m\u001b[38;5;124m'\u001b[39m]]\u001b[38;5;241m.\u001b[39mplot()\n\u001b[1;32m      5\u001b[0m history_frame\u001b[38;5;241m.\u001b[39mloc[:, [\u001b[38;5;124m'\u001b[39m\u001b[38;5;124mbinary_accuracy\u001b[39m\u001b[38;5;124m'\u001b[39m, \u001b[38;5;124m'\u001b[39m\u001b[38;5;124mval_binary_accuracy\u001b[39m\u001b[38;5;124m'\u001b[39m]]\u001b[38;5;241m.\u001b[39mplot();\n",
      "\u001b[0;31mNameError\u001b[0m: name 'history' is not defined"
     ]
    }
   ],
   "source": [
    "import pandas as pd\n",
    "\n",
    "history_frame = pd.DataFrame(history.history)\n",
    "history_frame.loc[:, ['loss', 'val_loss']].plot()\n",
    "history_frame.loc[:, ['binary_accuracy', 'val_binary_accuracy']].plot();"
   ]
  },
  {
   "cell_type": "markdown",
   "id": "37a49349-47ca-4b05-b12a-e07bc42dcd3d",
   "metadata": {},
   "source": [
    "### Conclusion¶"
   ]
  },
  {
   "cell_type": "markdown",
   "id": "b9a67dbb-0576-496c-9c6b-c22c0eef510c",
   "metadata": {},
   "source": [
    "In this lesson, we learned about the structure of a convnet classifier: a head to act as a classifier atop of a base which performs the feature extraction.\n",
    "\n",
    "The head, essentially, is an ordinary classifier like you learned about in the introductory course. For features, it uses those features extracted by the base. This is the basic idea behind convolutional classifiers: that we can attach a unit that performs feature engineering to the classifier itself.\n",
    "\n",
    "This is one of the big advantages deep neural networks have over traditional machine learning models: given the right network structure, the deep neural net can learn how to engineer the features it needs to solve its problem.\n",
    "\n",
    "For the next few lessons, we'll take a look at how the convolutional base accomplishes the feature extraction. Then, you'll learn how to apply these ideas and design some classifiers of your own."
   ]
  }
 ],
 "metadata": {
  "kernelspec": {
   "display_name": "Python 3 (ipykernel)",
   "language": "python",
   "name": "python3"
  },
  "language_info": {
   "codemirror_mode": {
    "name": "ipython",
    "version": 3
   },
   "file_extension": ".py",
   "mimetype": "text/x-python",
   "name": "python",
   "nbconvert_exporter": "python",
   "pygments_lexer": "ipython3",
   "version": "3.10.12"
  }
 },
 "nbformat": 4,
 "nbformat_minor": 5
}
