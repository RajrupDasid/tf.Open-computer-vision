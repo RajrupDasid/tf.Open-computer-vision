{
 "cells": [
  {
   "cell_type": "code",
   "execution_count": 1,
   "id": "b3a8a6ba-a190-43d0-b85c-65670d3e22e5",
   "metadata": {},
   "outputs": [
    {
     "name": "stderr",
     "output_type": "stream",
     "text": [
      "2023-08-05 15:49:18.683655: I tensorflow/tsl/cuda/cudart_stub.cc:28] Could not find cuda drivers on your machine, GPU will not be used.\n",
      "2023-08-05 15:49:19.260176: I tensorflow/tsl/cuda/cudart_stub.cc:28] Could not find cuda drivers on your machine, GPU will not be used.\n",
      "2023-08-05 15:49:19.263475: I tensorflow/core/platform/cpu_feature_guard.cc:182] This TensorFlow binary is optimized to use available CPU instructions in performance-critical operations.\n",
      "To enable the following instructions: AVX2 FMA, in other operations, rebuild TensorFlow with the appropriate compiler flags.\n",
      "2023-08-05 15:49:21.478400: W tensorflow/compiler/tf2tensorrt/utils/py_utils.cc:38] TF-TRT Warning: Could not find TensorRT\n"
     ]
    }
   ],
   "source": [
    "import tensorflow as tf"
   ]
  },
  {
   "cell_type": "code",
   "execution_count": 3,
   "id": "2f72424e-8c4a-42b3-8699-2f7e6b4ef92f",
   "metadata": {},
   "outputs": [
    {
     "name": "stdout",
     "output_type": "stream",
     "text": [
      "tf.Tensor(4, shape=(), dtype=int32)\n"
     ]
    }
   ],
   "source": [
    "#zero dimensional tensor\n",
    "tensor_zero_d = tf.constant(4)\n",
    "print(tensor_zero_d)"
   ]
  },
  {
   "cell_type": "code",
   "execution_count": 4,
   "id": "2f3c9696-57d4-4f82-917f-1ab57f5c5664",
   "metadata": {},
   "outputs": [
    {
     "name": "stdout",
     "output_type": "stream",
     "text": [
      "tf.Tensor([ 2  0 -3  8 90], shape=(5,), dtype=int32)\n"
     ]
    }
   ],
   "source": [
    "tensor_one_d = tf.constant([2,0,-3,8,90])\n",
    "print(tensor_one_d)"
   ]
  },
  {
   "cell_type": "code",
   "execution_count": 5,
   "id": "46696bc0-39ff-4a32-93eb-3d69f9d068b8",
   "metadata": {},
   "outputs": [
    {
     "name": "stdout",
     "output_type": "stream",
     "text": [
      "tf.Tensor(\n",
      "[[2 3 4 5]\n",
      " [7 8 9 5]], shape=(2, 4), dtype=int32)\n"
     ]
    }
   ],
   "source": [
    "tensor_two_d = tf.constant([\n",
    "                [2,3,4,5],\n",
    "                [7,8,9,5]\n",
    "            ])\n",
    "print(tensor_two_d)"
   ]
  },
  {
   "cell_type": "code",
   "execution_count": 6,
   "id": "3ae4bc0a-1577-4058-99b6-0b10f380b972",
   "metadata": {},
   "outputs": [
    {
     "name": "stdout",
     "output_type": "stream",
     "text": [
      "tf.Tensor(\n",
      "[[[1 2 3]\n",
      "  [3 4 5]]\n",
      "\n",
      " [[2 3 4]\n",
      "  [9 8 0]]\n",
      "\n",
      " [[7 8 9]\n",
      "  [3 6 4]]\n",
      "\n",
      " [[1 2 1]\n",
      "  [7 5 7]]], shape=(4, 2, 3), dtype=int32)\n"
     ]
    }
   ],
   "source": [
    "tensor_three_d  = tf.constant([\n",
    "        [[1,2,3],\n",
    "        [3,4,5]],\n",
    "\n",
    "        [[2,3,4],\n",
    "        [9,8,0]],\n",
    "        \n",
    "        [[7,8,9],\n",
    "        [3,6,4]],\n",
    "\n",
    "        [[1,2,1],\n",
    "        [7,5,7]],\n",
    "        \n",
    "])\n",
    "\n",
    "print(tensor_three_d)"
   ]
  },
  {
   "cell_type": "code",
   "execution_count": 7,
   "id": "eab019c3-e13d-45db-888e-dae023daacf0",
   "metadata": {},
   "outputs": [
    {
     "name": "stdout",
     "output_type": "stream",
     "text": [
      "3\n"
     ]
    }
   ],
   "source": [
    "print(tensor_three_d.ndim)"
   ]
  },
  {
   "cell_type": "code",
   "execution_count": 11,
   "id": "9ce22ca5-8776-4739-aa11-8373db65a6e7",
   "metadata": {},
   "outputs": [],
   "source": [
    "tensor_4d = tf.constant([\n",
    "    [\n",
    "        [[1, 2, 3], [3, 4, 5]],\n",
    "        [[2, 3, 4], [9, 8, 0]],\n",
    "        [[7, 8, 9], [3, 6, 4]],\n",
    "        [[1, 2, 1], [7, 5, 7]],\n",
    "    ],\n",
    "    [\n",
    "        [[1, 2, 3], [3, 4, 5]],\n",
    "        [[2, 3, 4], [9, 8, 0]],\n",
    "        [[7, 8, 9], [3, 6, 4]],\n",
    "        [[1, 2, 1], [7, 5, 7]],\n",
    "    ],\n",
    "    [\n",
    "        [[1, 2, 3], [3, 4, 5]],\n",
    "        [[2, 3, 4], [9, 8, 0]],\n",
    "        [[7, 8, 9], [3, 6, 4]],\n",
    "        [[1, 2, 1], [7, 5, 7]],\n",
    "    ],\n",
    "    [\n",
    "        [[1, 2, 3], [3, 4, 5]],\n",
    "        [[2, 3, 4], [9, 8, 0]],\n",
    "        [[7, 8, 9], [3, 6, 4]],\n",
    "        [[1, 2, 1], [7, 5, 7]],\n",
    "    ],\n",
    "])\n"
   ]
  },
  {
   "cell_type": "code",
   "execution_count": 12,
   "id": "f08b7a16-e068-47d5-8ffe-f3fd80214cef",
   "metadata": {},
   "outputs": [
    {
     "data": {
      "text/plain": [
       "TensorShape([4, 4, 2, 3])"
      ]
     },
     "execution_count": 12,
     "metadata": {},
     "output_type": "execute_result"
    }
   ],
   "source": [
    "tensor_4d.shape"
   ]
  },
  {
   "cell_type": "code",
   "execution_count": 14,
   "id": "2ffbf77f-89d9-4b6d-9efc-b4d3ad08d643",
   "metadata": {},
   "outputs": [
    {
     "name": "stdout",
     "output_type": "stream",
     "text": [
      "tf.Tensor([ 2.  0. -3.  8. 90.], shape=(5,), dtype=float16)\n",
      "tf.Tensor([ True False  True  True  True], shape=(5,), dtype=bool)\n"
     ]
    }
   ],
   "source": [
    "tensor_one_d = tf.constant([2,0,-3,8,90],dtype=tf.float16)\n",
    "casted_tensor_one_d = tf.cast(tensor_one_d,dtype=tf.bool) #tensorflow typecasting\n",
    "print(tensor_one_d)\n",
    "print(casted_tensor_one_d)"
   ]
  },
  {
   "cell_type": "markdown",
   "id": "383bcb60-c2f4-4c60-98c7-5f85ac1d9996",
   "metadata": {},
   "source": [
    "### tensorflow string datatype with "
   ]
  },
  {
   "cell_type": "code",
   "execution_count": 16,
   "id": "30c78ee2-f9f8-412c-9cee-e18238d13fe5",
   "metadata": {},
   "outputs": [
    {
     "name": "stdout",
     "output_type": "stream",
     "text": [
      "tf.Tensor([b'Hello world' b'hy' b'numpy'], shape=(3,), dtype=string)\n"
     ]
    }
   ],
   "source": [
    "tensor_string = tf.constant([\"Hello world\",\"hy\",\"numpy\"])\n",
    "\n",
    "print(tensor_string)"
   ]
  },
  {
   "cell_type": "markdown",
   "id": "0637bad2-54c8-44e7-bce2-6d1e6b6091c7",
   "metadata": {},
   "source": [
    "## Numpy , np Array"
   ]
  },
  {
   "cell_type": "code",
   "execution_count": 17,
   "id": "04954be6-1533-46c7-b6fd-40a2fb020fb6",
   "metadata": {},
   "outputs": [],
   "source": [
    "import numpy as np"
   ]
  },
  {
   "cell_type": "code",
   "execution_count": 19,
   "id": "14203ddb-e5b7-4c04-a031-5f1e8ee8f027",
   "metadata": {},
   "outputs": [
    {
     "name": "stdout",
     "output_type": "stream",
     "text": [
      "[1 2 3]\n"
     ]
    }
   ],
   "source": [
    "np_array = np.array([1,2,3])\n",
    "print(np_array)"
   ]
  },
  {
   "cell_type": "code",
   "execution_count": 20,
   "id": "8fc79cbe-ae59-4442-9334-867a2293df1d",
   "metadata": {},
   "outputs": [
    {
     "name": "stdout",
     "output_type": "stream",
     "text": [
      "tf.Tensor([1 2 3], shape=(3,), dtype=int64)\n"
     ]
    }
   ],
   "source": [
    "converted_tensor = tf.convert_to_tensor(np_array)\n",
    "print(converted_tensor)"
   ]
  },
  {
   "cell_type": "markdown",
   "id": "5827557c-8aba-41d0-84c3-6454c5a4b396",
   "metadata": {},
   "source": [
    "# Creating matrices  using tf.eye api\n",
    "\n",
    "#### for more information about the api go to [tf.eye](https://www.tensorflow.org/api_docs/python/tf/eye)"
   ]
  },
  {
   "cell_type": "code",
   "execution_count": 29,
   "id": "ef2ba1b3-8eb6-4dea-840a-ae6ea498649d",
   "metadata": {},
   "outputs": [
    {
     "name": "stdout",
     "output_type": "stream",
     "text": [
      "tf.Tensor(\n",
      "[[[[1. 0. 0. 0. 0.]\n",
      "   [0. 1. 0. 0. 0.]\n",
      "   [0. 0. 1. 0. 0.]\n",
      "   [0. 0. 0. 1. 0.]\n",
      "   [0. 0. 0. 0. 1.]]\n",
      "\n",
      "  [[1. 0. 0. 0. 0.]\n",
      "   [0. 1. 0. 0. 0.]\n",
      "   [0. 0. 1. 0. 0.]\n",
      "   [0. 0. 0. 1. 0.]\n",
      "   [0. 0. 0. 0. 1.]]\n",
      "\n",
      "  [[1. 0. 0. 0. 0.]\n",
      "   [0. 1. 0. 0. 0.]\n",
      "   [0. 0. 1. 0. 0.]\n",
      "   [0. 0. 0. 1. 0.]\n",
      "   [0. 0. 0. 0. 1.]]\n",
      "\n",
      "  [[1. 0. 0. 0. 0.]\n",
      "   [0. 1. 0. 0. 0.]\n",
      "   [0. 0. 1. 0. 0.]\n",
      "   [0. 0. 0. 1. 0.]\n",
      "   [0. 0. 0. 0. 1.]]]\n",
      "\n",
      "\n",
      " [[[1. 0. 0. 0. 0.]\n",
      "   [0. 1. 0. 0. 0.]\n",
      "   [0. 0. 1. 0. 0.]\n",
      "   [0. 0. 0. 1. 0.]\n",
      "   [0. 0. 0. 0. 1.]]\n",
      "\n",
      "  [[1. 0. 0. 0. 0.]\n",
      "   [0. 1. 0. 0. 0.]\n",
      "   [0. 0. 1. 0. 0.]\n",
      "   [0. 0. 0. 1. 0.]\n",
      "   [0. 0. 0. 0. 1.]]\n",
      "\n",
      "  [[1. 0. 0. 0. 0.]\n",
      "   [0. 1. 0. 0. 0.]\n",
      "   [0. 0. 1. 0. 0.]\n",
      "   [0. 0. 0. 1. 0.]\n",
      "   [0. 0. 0. 0. 1.]]\n",
      "\n",
      "  [[1. 0. 0. 0. 0.]\n",
      "   [0. 1. 0. 0. 0.]\n",
      "   [0. 0. 1. 0. 0.]\n",
      "   [0. 0. 0. 1. 0.]\n",
      "   [0. 0. 0. 0. 1.]]]], shape=(2, 4, 5, 5), dtype=float64)\n"
     ]
    }
   ],
   "source": [
    "eye_tensor = tf.eye(\n",
    "    num_rows=5,\n",
    "    num_columns=None,\n",
    "    batch_shape=[2,4],\n",
    "    dtype=tf.dtypes.float64,\n",
    "    name=None\n",
    ")\n",
    "print(eye_tensor)"
   ]
  },
  {
   "cell_type": "markdown",
   "id": "15fa32e8-683a-41ce-8898-729d7c681920",
   "metadata": {},
   "source": [
    "# Create a tensorflow method fill with scalar value\n",
    "\n",
    "#### for more information go to [tf.fill](https://www.tensorflow.org/api_docs/python/tf/fill)"
   ]
  },
  {
   "cell_type": "code",
   "execution_count": 31,
   "id": "2b7dff20-ff11-4f08-a3ac-1d0ce7c25eb4",
   "metadata": {},
   "outputs": [
    {
     "name": "stdout",
     "output_type": "stream",
     "text": [
      "tf.Tensor(\n",
      "[[9 9 9]\n",
      " [9 9 9]], shape=(2, 3), dtype=int32)\n"
     ]
    }
   ],
   "source": [
    "fill_tensor = tf.fill(\n",
    "    [2, 3], 9, name=None\n",
    "\n",
    ")\n",
    "\n",
    "print(fill_tensor)\n"
   ]
  },
  {
   "cell_type": "code",
   "execution_count": null,
   "id": "3732dda8-7ab4-45dc-b3c9-99db686cb4ef",
   "metadata": {},
   "outputs": [],
   "source": []
  }
 ],
 "metadata": {
  "kernelspec": {
   "display_name": "Python 3 (ipykernel)",
   "language": "python",
   "name": "python3"
  },
  "language_info": {
   "codemirror_mode": {
    "name": "ipython",
    "version": 3
   },
   "file_extension": ".py",
   "mimetype": "text/x-python",
   "name": "python",
   "nbconvert_exporter": "python",
   "pygments_lexer": "ipython3",
   "version": "3.10.12"
  }
 },
 "nbformat": 4,
 "nbformat_minor": 5
}
