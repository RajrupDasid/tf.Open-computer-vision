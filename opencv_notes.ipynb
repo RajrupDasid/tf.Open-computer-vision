{
 "cells": [
  {
   "cell_type": "markdown",
   "id": "3019ad8c-a2d5-4bcf-8041-4f842e2ab005",
   "metadata": {},
   "source": [
    "## Opencv Image reading notes"
   ]
  },
  {
   "cell_type": "markdown",
   "id": "059a715e-2b0b-4cc6-a8d2-c8e380da7221",
   "metadata": {},
   "source": [
    "open CV usises BRG format to read images form the specified loacation , but standard method is to read image as a format of RGB \n",
    "\n",
    "so when ever using open cv make sure to convert the image into RGB format to actually for better result"
   ]
  },
  {
   "cell_type": "code",
   "execution_count": null,
   "id": "7f96b1b1-e521-4b18-90b3-ea720d476dee",
   "metadata": {},
   "outputs": [],
   "source": []
  }
 ],
 "metadata": {
  "kernelspec": {
   "display_name": "Python 3 (ipykernel)",
   "language": "python",
   "name": "python3"
  },
  "language_info": {
   "codemirror_mode": {
    "name": "ipython",
    "version": 3
   },
   "file_extension": ".py",
   "mimetype": "text/x-python",
   "name": "python",
   "nbconvert_exporter": "python",
   "pygments_lexer": "ipython3",
   "version": "3.10.12"
  }
 },
 "nbformat": 4,
 "nbformat_minor": 5
}
